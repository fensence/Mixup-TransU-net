{
  "nbformat": 4,
  "nbformat_minor": 0,
  "metadata": {
    "orig_nbformat": 2,
    "colab": {
      "name": "create_tfds_records.ipynb",
      "provenance": [],
      "toc_visible": true,
      "include_colab_link": true
    },
    "language_info": {
      "name": "python"
    },
    "kernelspec": {
      "name": "python3",
      "display_name": "Python 3"
    },
    "accelerator": "GPU"
  },
  "cells": [
    {
      "cell_type": "markdown",
      "metadata": {
        "id": "view-in-github",
        "colab_type": "text"
      },
      "source": [
        "<a href=\"https://colab.research.google.com/github/KenzaB27/TransUnet/blob/vit/data_processing/create_tfds_records.ipynb\" target=\"_parent\"><img src=\"https://colab.research.google.com/assets/colab-badge.svg\" alt=\"Open In Colab\"/></a>"
      ]
    },
    {
      "cell_type": "code",
      "metadata": {
        "id": "WSZgRQSIf0-t"
      },
      "source": [
        "import tensorflow as tf\n",
        "import numpy as np\n",
        "import importlib\n",
        "import yaml\n",
        "import cv2 \n",
        "import os\n",
        "\n",
        "from google.colab import auth\n",
        "from pathlib import Path\n",
        "from tqdm import tqdm "
      ],
      "execution_count": null,
      "outputs": []
    },
    {
      "cell_type": "markdown",
      "metadata": {
        "id": "Byy1hrUDVN_z"
      },
      "source": [
        "## Environment Setup"
      ]
    },
    {
      "cell_type": "code",
      "metadata": {
        "colab": {
          "base_uri": "https://localhost:8080/"
        },
        "id": "tYb7qcMdmvOD",
        "outputId": "1aed8881-c202-4f3c-b6b3-4822a8b0a235"
      },
      "source": [
        "from google.colab import drive\n",
        "drive.mount('/content/drive')"
      ],
      "execution_count": null,
      "outputs": []
    },
    {
      "cell_type": "code",
      "metadata": {
        "colab": {
          "base_uri": "https://localhost:8080/"
        },
        "id": "WeOwfrmPgRHi",
        "outputId": "8ebb0977-5eb6-4c33-b7c2-4d378132d4f0"
      },
      "source": [
        "os.environ['GOOGLE_APPLICATION_CREDENTIALS'] = 'PATH_TO_GCP_CREDENTIALS' ## TODO set the path to gcp credentials\n",
        "!echo $GOOGLE_APPLICATION_CREDENTIALS\n",
        "\n",
        "project='dd2424-308314' # change to your project name here\n",
        "os.environ['GCP_PROJECT'] = project \n",
        "os.environ['GCP_ACCOUNT'] = 'trans-unet@' + project + '.iam.gserviceaccount.com'\n",
        "\n",
        "!gcloud auth activate-service-account \"$GCP_ACCOUNT\" --key-file=\"$GOOGLE_APPLICATION_CREDENTIALS\" --project=\"$GCP_PROJECT\""
      ],
      "execution_count": null,
      "outputs": []
    },
    {
      "cell_type": "code",
      "metadata": {
        "colab": {
          "base_uri": "https://localhost:8080/"
        },
        "id": "VLFLoUM8gVX5",
        "outputId": "6b238074-0e12-49aa-e581-e25a6c1efcd5"
      },
      "source": [
        "!echo \"deb http://packages.cloud.google.com/apt gcsfuse-bionic main\" > /etc/apt/sources.list.d/gcsfuse.list\n",
        "!curl https://packages.cloud.google.com/apt/doc/apt-key.gpg | apt-key add -\n",
        "!apt -qq update\n",
        "!apt -qq install gcsfuse"
      ],
      "execution_count": null,
      "outputs": []
    },
    {
      "cell_type": "code",
      "metadata": {
        "colab": {
          "base_uri": "https://localhost:8080/"
        },
        "id": "hsPjvXn3gagl",
        "outputId": "d2f64e56-90ab-4726-c2da-d48d26cc5791"
      },
      "source": [
        "!mkdir DataSet\n",
        "!gcsfuse --implicit-dirs aga_bucket DataSet"
      ],
      "execution_count": null,
      "outputs": []
    },
    {
      "cell_type": "code",
      "metadata": {
        "id": "TSo9ltqcIWxb",
        "colab": {
          "base_uri": "https://localhost:8080/"
        },
        "outputId": "ae795dd2-79a9-4360-88c3-998930c7f5d1"
      },
      "source": [
        "!git clone https://github.com/KenzaB27/TransUnet.git\n",
        "%cd TransUnet"
      ],
      "execution_count": null,
      "outputs": []
    },
    {
      "cell_type": "markdown",
      "metadata": {
        "id": "HVpc3Az2XLZj"
      },
      "source": [
        "## Write TfRecords in cloud bucket"
      ]
    },
    {
      "cell_type": "code",
      "metadata": {
        "id": "jcaiM0ScgNN2",
        "outputId": "c09c9585-b192-4f9b-f1e6-cbd6d462104e",
        "colab": {
          "base_uri": "https://localhost:8080/"
        }
      },
      "source": [
        "%cd /content/TransUnet/"
      ],
      "execution_count": null,
      "outputs": []
    },
    {
      "cell_type": "code",
      "metadata": {
        "id": "BjqkpcOJJD0A"
      },
      "source": [
        "import data_processing.data_parser as dp\n",
        "importlib.reload(dp)\n",
        "dw = dp.DataWriter('/content/DataSet/train_npz/', '/content/DataSet/synapse-train-224/', height=224, width=224, batch_size=130)"
      ],
      "execution_count": null,
      "outputs": []
    },
    {
      "cell_type": "code",
      "metadata": {
        "colab": {
          "base_uri": "https://localhost:8080/"
        },
        "id": "DD8CUPy8_7ol",
        "outputId": "a18b9840-19a6-4ead-93cb-e278072acce3"
      },
      "source": [
        "dw.write_batch_tfrecords()"
      ],
      "execution_count": null,
      "outputs": []
    },
    {
      "cell_type": "markdown",
      "metadata": {
        "id": "1LWmgqe0amRE"
      },
      "source": [
        "## Test Loading from tfrecords"
      ]
    },
    {
      "cell_type": "code",
      "metadata": {
        "id": "bPq-zYV4IfRG",
        "colab": {
          "base_uri": "https://localhost:8080/"
        },
        "outputId": "2957811a-13bd-4f32-ba1f-ea3a0955a4fc"
      },
      "source": [
        "%cd /content/TransUnet/\n",
        "!git checkout vit\n",
        "!git pull"
      ],
      "execution_count": null,
      "outputs": []
    },
    {
      "cell_type": "code",
      "metadata": {
        "id": "jjLEm44hXsYL"
      },
      "source": [
        "import data_processing.data_parser as dp\n",
        "importlib.reload(dp)\n",
        "dr = dp.DataReader(\"/content/DataSet/synapse-train-224/\")\n",
        "dataset = dr.get_dataset()"
      ],
      "execution_count": null,
      "outputs": []
    },
    {
      "cell_type": "code",
      "metadata": {
        "colab": {
          "base_uri": "https://localhost:8080/"
        },
        "id": "pdNca_fXYLLL",
        "outputId": "10ef7d0f-47c7-471c-c82e-3bd7c356c221"
      },
      "source": [
        "for sample in dataset.take(10):\n",
        "    print(sample[0].shape)"
      ],
      "execution_count": null,
      "outputs": []
    }
  ]
}